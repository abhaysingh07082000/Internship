{
 "cells": [
  {
   "cell_type": "code",
   "execution_count": 1,
   "id": "02be49ff-613c-4d97-93ab-13ca447059f1",
   "metadata": {},
   "outputs": [
    {
     "name": "stdout",
     "output_type": "stream",
     "text": [
      "Most popular movie based on average user ratings:\n",
      "Title: Shawshank Redemption, The (1994)\n",
      "Average Rating: 4.429022082018927\n"
     ]
    }
   ],
   "source": [
    "import pandas as pd\n",
    "\n",
    "# Load datasets\n",
    "ratings = pd.read_csv('ratings.csv')\n",
    "movies = pd.read_csv('movies.csv')\n",
    "\n",
    "# Group by movieId and aggregate to get count and mean rating\n",
    "grouped_ratings = ratings.groupby('movieId').agg(\n",
    "    count=('rating', 'size'),\n",
    "    mean_rating=('rating', 'mean')\n",
    ").reset_index()\n",
    "\n",
    "# Filter movies with more than 50 ratings\n",
    "filtered_ratings = grouped_ratings[grouped_ratings['count'] > 50]\n",
    "\n",
    "# Merge with movie titles\n",
    "movies_with_ratings = pd.merge(filtered_ratings, movies, on='movieId')\n",
    "\n",
    "# Find the movie with the highest average rating\n",
    "most_popular_movie = movies_with_ratings.sort_values(by='mean_rating', ascending=False).iloc[0]\n",
    "\n",
    "# Display the result\n",
    "print(\"Most popular movie based on average user ratings:\")\n",
    "print(f\"Title: {most_popular_movie['title']}\")\n",
    "print(f\"Average Rating: {most_popular_movie['mean_rating']}\")\n"
   ]
  },
  {
   "cell_type": "code",
   "execution_count": 2,
   "id": "b58cbf7d-84b5-4c9d-8d72-0f6180362c72",
   "metadata": {},
   "outputs": [
    {
     "name": "stdout",
     "output_type": "stream",
     "text": [
      "Top 5 movies based on number of user ratings:\n",
      "                                title  count\n",
      "61                Forrest Gump (1994)    329\n",
      "53   Shawshank Redemption, The (1994)    317\n",
      "49                Pulp Fiction (1994)    307\n",
      "99   Silence of the Lambs, The (1991)    279\n",
      "248                Matrix, The (1999)    278\n"
     ]
    }
   ],
   "source": [
    "import pandas as pd\n",
    "\n",
    "# Load datasets\n",
    "ratings = pd.read_csv('ratings.csv')\n",
    "movies = pd.read_csv('movies.csv')\n",
    "\n",
    "# Group by movieId and aggregate to get count of ratings\n",
    "grouped_ratings = ratings.groupby('movieId').agg(\n",
    "    count=('rating', 'size'),\n",
    "    mean_rating=('rating', 'mean')\n",
    ").reset_index()\n",
    "\n",
    "# Filter movies with more than 50 ratings\n",
    "filtered_ratings = grouped_ratings[grouped_ratings['count'] > 50]\n",
    "\n",
    "# Merge with movie titles\n",
    "movies_with_ratings = pd.merge(filtered_ratings, movies, on='movieId')\n",
    "\n",
    "# Sort by count of ratings in descending order and get top 5\n",
    "top_5_movies = movies_with_ratings.sort_values(by='count', ascending=False).head(5)\n",
    "\n",
    "# Display top 5 movies\n",
    "print(\"Top 5 movies based on number of user ratings:\")\n",
    "print(top_5_movies[['title', 'count']])\n"
   ]
  },
  {
   "cell_type": "code",
   "execution_count": 3,
   "id": "558a2325-ae66-4770-9b36-cc5f42cbb71c",
   "metadata": {},
   "outputs": [
    {
     "name": "stdout",
     "output_type": "stream",
     "text": [
      "Third most popular Sci-Fi movie based on number of user ratings:\n",
      "Title: Jurassic Park (1993)\n",
      "Number of Ratings: 238\n"
     ]
    }
   ],
   "source": [
    "import pandas as pd\n",
    "\n",
    "# Load datasets\n",
    "ratings = pd.read_csv('ratings.csv')\n",
    "movies = pd.read_csv('movies.csv')\n",
    "\n",
    "# Group by movieId and aggregate to get count of ratings\n",
    "grouped_ratings = ratings.groupby('movieId').agg(\n",
    "    count=('rating', 'size'),\n",
    "    mean_rating=('rating', 'mean')\n",
    ").reset_index()\n",
    "\n",
    "# Filter movies with more than 50 ratings\n",
    "filtered_ratings = grouped_ratings[grouped_ratings['count'] > 50]\n",
    "\n",
    "# Merge with movie titles\n",
    "movies_with_ratings = pd.merge(filtered_ratings, movies, on='movieId')\n",
    "\n",
    "# Filter for Sci-Fi genre\n",
    "sci_fi_movies = movies_with_ratings[movies_with_ratings['genres'].str.contains('Sci-Fi', case=False, na=False)]\n",
    "\n",
    "# Sort by count of ratings in descending order and get the third most popular\n",
    "third_most_popular_sci_fi = sci_fi_movies.sort_values(by='count', ascending=False).iloc[2]\n",
    "\n",
    "# Display the result\n",
    "print(\"Third most popular Sci-Fi movie based on number of user ratings:\")\n",
    "print(f\"Title: {third_most_popular_sci_fi['title']}\")\n",
    "print(f\"Number of Ratings: {third_most_popular_sci_fi['count']}\")\n"
   ]
  },
  {
   "cell_type": "code",
   "execution_count": null,
   "id": "ef99d8dc-7cf4-4f1e-9590-b7311327dbb1",
   "metadata": {},
   "outputs": [],
   "source": []
  }
 ],
 "metadata": {
  "kernelspec": {
   "display_name": "Python 3 (ipykernel)",
   "language": "python",
   "name": "python3"
  },
  "language_info": {
   "codemirror_mode": {
    "name": "ipython",
    "version": 3
   },
   "file_extension": ".py",
   "mimetype": "text/x-python",
   "name": "python",
   "nbconvert_exporter": "python",
   "pygments_lexer": "ipython3",
   "version": "3.12.4"
  }
 },
 "nbformat": 4,
 "nbformat_minor": 5
}
